{
 "cells": [
  {
   "cell_type": "code",
   "execution_count": 1,
   "id": "63401305",
   "metadata": {},
   "outputs": [],
   "source": [
    "import numpy as np\n",
    "import matplotlib.pyplot as plt\n",
    "from sklearn.datasets import load_files"
   ]
  },
  {
   "cell_type": "code",
   "execution_count": 2,
   "id": "6e8d5d6a",
   "metadata": {},
   "outputs": [],
   "source": [
    "data = load_files(\"BBC/\", encoding=\"latin-1\", decode_error=\"replace\")"
   ]
  },
  {
   "cell_type": "code",
   "execution_count": 3,
   "id": "0ec8e537",
   "metadata": {},
   "outputs": [],
   "source": [
    "labels, counts = np.unique(data.target, return_counts=True)"
   ]
  },
  {
   "cell_type": "code",
   "execution_count": 4,
   "id": "8b0b2dab",
   "metadata": {},
   "outputs": [
    {
     "name": "stdout",
     "output_type": "stream",
     "text": [
      "{'business': 510, 'entertainment': 386, 'politics': 417, 'sport': 511, 'tech': 401}\n"
     ]
    }
   ],
   "source": [
    "labels_str = np.array(data.target_names)[labels]\n",
    "class_dict=dict(zip(labels_str, counts))\n",
    "\n",
    "print(class_dict)"
   ]
  },
  {
   "cell_type": "code",
   "execution_count": 5,
   "id": "7e012141",
   "metadata": {},
   "outputs": [
    {
     "data": {
      "image/png": "[encoded data removed]",
      "text/plain": [
       "<Figure size 432x288 with 1 Axes>"
      ]
     },
     "metadata": {
      "needs_background": "light"
     },
     "output_type": "display_data"
    }
   ],
   "source": [
    "plt.bar(labels_str, counts)\n",
    "plt.savefig(\" bbc-distribution.pdf\")"
   ]
  },
  {
   "cell_type": "code",
   "execution_count": 6,
   "id": "65c9e154",
   "metadata": {},
   "outputs": [],
   "source": [
    "from sklearn.model_selection import train_test_split\n",
    "x_train, x_test, y_train, y_test = train_test_split(data.data, data.target, test_size= 0.2, random_state=None)"
   ]
  },
  {
   "cell_type": "markdown",
   "id": "1bb86e96",
   "metadata": {},
   "source": [
    "# MultinomialNB default values, try 1"
   ]
  },
  {
   "cell_type": "code",
   "execution_count": 7,
   "id": "4c6e55d8",
   "metadata": {},
   "outputs": [
    {
     "data": {
      "text/plain": [
       "MultinomialNB()"
      ]
     },
     "execution_count": 7,
     "metadata": {},
     "output_type": "execute_result"
    }
   ],
   "source": [
    "from sklearn.feature_extraction.text import CountVectorizer\n",
    "from sklearn.naive_bayes import MultinomialNB\n",
    "\n",
    "vectorizer = CountVectorizer(analyzer='word', stop_words=\"english\", decode_error=\"ignore\")\n",
    "corpus = vectorizer.fit_transform(x_train)\n",
    "cls = MultinomialNB()\n",
    "cls.fit(vectorizer.transform(x_train), y_train)"
   ]
  },
  {
   "cell_type": "code",
   "execution_count": 8,
   "id": "141d19e9",
   "metadata": {},
   "outputs": [],
   "source": [
    "class_props = \"\"\n",
    "class_instances = [0,0,0,0,0]\n",
    "\n",
    "for i in y_train:\n",
    "    if (i==0):\n",
    "        class_instances[0]+=1;\n",
    "    elif (i==1):\n",
    "        class_instances[1]+=1\n",
    "    elif (i==2):\n",
    "        class_instances[2]+=1\n",
    "    elif (i==3):\n",
    "        class_instances[3]+=1\n",
    "    elif (i==4):\n",
    "        class_instances[4]+=1\n",
    "        \n",
    "for i in range(len(class_instances)):\n",
    "    class_instances[i] = '{0:.5g}'.format(100*class_instances[i]/len(y_train))\n",
    "    class_props += \"Prior probability of \" + labels_str[i] + \": \" + class_instances[i] + \"%\\n\""
   ]
  },
  {
   "cell_type": "code",
   "execution_count": 9,
   "id": "0592d210",
   "metadata": {},
   "outputs": [],
   "source": [
    "import pandas as pd\n",
    "\n",
    "counts = pd.DataFrame(corpus.toarray(), index=y_train, columns=vectorizer.get_feature_names())\n",
    "class_classification = []\n",
    "class_word_ctr = [0,0,0,0,0]\n",
    "\n",
    "\n",
    "for i in range(5):\n",
    "    class_classification.append(counts.loc[counts.index==i].sum(axis=0))\n",
    "    for j in class_classification[i]:\n",
    "        class_word_ctr[i] += class_classification[i][j]\n",
    "        \n",
    "class_word_tokens = \"\"\n",
    "\n",
    "for i in range(5):\n",
    "    class_word_tokens += \"The number of word-tokens in \" + labels_str[i] + \": \" + str(class_word_ctr[i]) + \"\\n\" \n",
    "class_word_tokens += \"\\nThe number of word-tokens in the entire corpus is: \" + str(np.sum(class_word_ctr)) + \"\\n\""
   ]
  },
  {
   "cell_type": "code",
   "execution_count": 10,
   "id": "d220cb40",
   "metadata": {},
   "outputs": [],
   "source": [
    "zero_freq_words_ctr = [0,0,0,0,0]\n",
    "one_freq_words_ctr = 0\n",
    "\n",
    "for i in range(5):\n",
    "    for j in class_classification[i]:\n",
    "        if class_classification[i][j]==0:\n",
    "            zero_freq_words_ctr[i] += 1\n",
    "        if class_classification[i][j]==1:\n",
    "            one_freq_words_ctr += 1\n",
    "            \n",
    "zero_freq_words_per = ['{0:.3f}'.format(100*zero_freq_words_ctr[i]/class_word_ctr[i]) for i in range(5)]\n",
    "one_freq_words_per = '{0:.3f}'.format(100*one_freq_words_ctr/np.sum(class_word_ctr))\n",
    "\n",
    "words_number_and_per_str = \"\"\n",
    "\n",
    "for i in range(5):\n",
    "    words_number_and_per_str += \"The number and percentage of words with a frequency of zero in \" + labels_str[i] + \": Number-> \" + str(zero_freq_words_ctr[i]) + \"\\tPercentage-> \" + str(zero_freq_words_per[i]) + \"%\\n\"\n",
    "    \n",
    "words_number_and_per_str += \"\\nThe number and percentage of words with a frequency of one in the entire corpus is: Number-> \" + str(one_freq_words_ctr) + \"\\tPercentage-> \" + str(one_freq_words_per) + \"%\\n\""
   ]
  },
  {
   "cell_type": "code",
   "execution_count": 11,
   "id": "21c9d9e7",
   "metadata": {},
   "outputs": [],
   "source": [
    "import math\n",
    "\n",
    "word_list = vectorizer.get_feature_names();    \n",
    "count_list = corpus.toarray().sum(axis=0)\n",
    "corpus_dict = dict(zip(word_list,count_list))\n",
    "\n",
    "prog_prop = '{0:.3f}'.format(math.log(corpus_dict['programming']/np.sum(class_word_ctr)))\n",
    "\n",
    "food_prop = '{0:.3f}'.format(math.log(corpus_dict['food']/np.sum(class_word_ctr)))\n",
    "\n",
    "fav_words_str = \"The log-prop of Programming is: \" + prog_prop + \"\\nThe log-prop of Food is: \" + food_prop\n"
   ]
  },
  {
   "cell_type": "code",
   "execution_count": 12,
   "id": "59bbff22",
   "metadata": {},
   "outputs": [],
   "source": [
    "from sklearn.metrics import classification_report, accuracy_score, confusion_matrix, f1_score\n",
    "\n",
    "y_pred = cls.predict(vectorizer.transform(x_test))\n",
    "with open(\"bbc-performance.txt\", \"a\") as myfile:\n",
    "    myfile.write(\"********************************************************\\nMultinomialNB default values, try 1\\n\\n\")\n",
    "    myfile.write(\"\\nb)\\nConfusion Matrix:\\n\\n\" + str(confusion_matrix(y_test, y_pred)))\n",
    "    myfile.write(\"\\n\\nc & d)\\nAccuracy:\\t\" + str(accuracy_score(y_test, y_pred)))\n",
    "    myfile.write(\"\\n\\n\" + str(classification_report(y_test, y_pred, target_names=data.target_names)))\n",
    "    myfile.write(\"\\n\\ne)\\n\" + class_props)\n",
    "    myfile.write(\"\\n\\nf)\\nThe size of the vocabulary: \" + str(len(corpus_dict)))\n",
    "    myfile.write(\"\\n\\ng & h)\\n\" + class_word_tokens)\n",
    "    myfile.write(\"\\n\\ni & j)\\n\" + words_number_and_per_str)\n",
    "    myfile.write(\"\\n\\nk)\\n\" + fav_words_str)"
   ]
  },
  {
   "cell_type": "markdown",
   "id": "17469594",
   "metadata": {},
   "source": [
    "# MultinomialNB default values, try 2"
   ]
  },
  {
   "cell_type": "code",
   "execution_count": 13,
   "id": "8f9db3e5",
   "metadata": {},
   "outputs": [],
   "source": [
    "vectorizer = CountVectorizer(analyzer='word', stop_words=\"english\", decode_error=\"ignore\")\n",
    "corpus = vectorizer.fit_transform(x_train)\n",
    "cls = MultinomialNB()\n",
    "cls.fit(vectorizer.transform(x_train), y_train)\n",
    "\n",
    "class_props = \"\"\n",
    "class_instances = [0,0,0,0,0]\n",
    "\n",
    "for i in y_train:\n",
    "    if (i==0):\n",
    "        class_instances[0]+=1;\n",
    "    elif (i==1):\n",
    "        class_instances[1]+=1\n",
    "    elif (i==2):\n",
    "        class_instances[2]+=1\n",
    "    elif (i==3):\n",
    "        class_instances[3]+=1\n",
    "    elif (i==4):\n",
    "        class_instances[4]+=1\n",
    "        \n",
    "for i in range(len(class_instances)):\n",
    "    class_instances[i] = '{0:.5g}'.format(100*class_instances[i]/len(y_train))\n",
    "    class_props += \"Prior probability of \" + labels_str[i] + \": \" + class_instances[i] + \"%\\n\"\n",
    "\n",
    "counts = pd.DataFrame(corpus.toarray(), index=y_train, columns=vectorizer.get_feature_names())\n",
    "\n",
    "class_classification = []\n",
    "class_word_ctr = [0,0,0,0,0]\n",
    "for i in range(5):\n",
    "    class_classification.append(counts.loc[counts.index==i].sum(axis=0))\n",
    "    for j in class_classification[i]:\n",
    "        class_word_ctr[i] += class_classification[i][j]\n",
    "\n",
    "class_word_tokens = \"\"\n",
    "\n",
    "for i in range(5):\n",
    "    class_word_tokens += \"The number of word-tokens in \" + labels_str[i] + \": \" + str(class_word_ctr[i]) + \"\\n\" \n",
    "class_word_tokens += \"\\nThe number of word-tokens in the entire corpus is: \" + str(np.sum(class_word_ctr)) + \"\\n\"\n",
    "\n",
    "zero_freq_words_ctr = [0,0,0,0,0]\n",
    "one_freq_words_ctr = 0\n",
    "\n",
    "for i in range(5):\n",
    "    for j in class_classification[i]:\n",
    "        if class_classification[i][j]==0:\n",
    "            zero_freq_words_ctr[i] += 1\n",
    "        if class_classification[i][j]==1:\n",
    "            one_freq_words_ctr += 1\n",
    "            \n",
    "zero_freq_words_per = ['{0:.3f}'.format(100*zero_freq_words_ctr[i]/class_word_ctr[i]) for i in range(5)]\n",
    "one_freq_words_per = '{0:.3f}'.format(100*one_freq_words_ctr/np.sum(class_word_ctr))\n",
    "\n",
    "words_number_and_per_str = \"\"\n",
    "\n",
    "for i in range(5):\n",
    "    words_number_and_per_str += \"The number and percentage of words with a frequency of zero in \" + labels_str[i] + \": Number-> \" + str(zero_freq_words_ctr[i]) + \"\\tPercentage-> \" + str(zero_freq_words_per[i]) + \"%\\n\"\n",
    "    \n",
    "words_number_and_per_str += \"\\nThe number and percentage of words with a frequency of zero one in the entire corpus is: Number-> \" + str(one_freq_words_ctr) + \"\\tPercentage-> \" + str(one_freq_words_per) + \"%\\n\"\n",
    "\n",
    "word_list = vectorizer.get_feature_names();    \n",
    "count_list = corpus.toarray().sum(axis=0)\n",
    "corpus_dict = dict(zip(word_list,count_list))\n",
    "\n",
    "prog_prop = '{0:.3f}'.format(math.log(corpus_dict['programming']/np.sum(class_word_ctr)))\n",
    "\n",
    "food_prop = '{0:.3f}'.format(math.log(corpus_dict['food']/np.sum(class_word_ctr)))\n",
    "\n",
    "fav_words_str = \"The log-prop of Programming is: \" + prog_prop + \"\\nThe log-prop of Food is: \" + food_prop\n",
    "\n",
    "y_pred = cls.predict(vectorizer.transform(x_test))\n",
    "with open(\"bbc-performance.txt\", \"a\") as myfile:\n",
    "    myfile.write(\"\\n\\n********************************************************\\nMultinomialNB default values, try 2\\n\\n\")\n",
    "    myfile.write(\"\\nb)\\nConfusion Matrix:\\n\\n\" + str(confusion_matrix(y_test, y_pred)))\n",
    "    myfile.write(\"\\n\\nc & d)\\nAccuracy:\\t\" + str(accuracy_score(y_test, y_pred)))\n",
    "    myfile.write(\"\\n\\n\" + str(classification_report(y_test, y_pred, target_names=data.target_names)))\n",
    "    myfile.write(\"\\n\\ne)\\n\" + class_props)\n",
    "    myfile.write(\"\\n\\nf)\\nThe size of the vocabulary: \" + str(len(corpus_dict)))\n",
    "    myfile.write(\"\\n\\ng & h)\\n\" + class_word_tokens)\n",
    "    myfile.write(\"\\n\\ni & j)\\n\" + words_number_and_per_str)\n",
    "    myfile.write(\"\\n\\nk)\\n\" + fav_words_str)"
   ]
  },
  {
   "cell_type": "markdown",
   "id": "0707ecb1",
   "metadata": {},
   "source": [
    "# MultinomialNB default values, try 3"
   ]
  },
  {
   "cell_type": "code",
   "execution_count": 14,
   "id": "b1f8b003",
   "metadata": {},
   "outputs": [],
   "source": [
    "vectorizer = CountVectorizer(analyzer='word', stop_words=\"english\", decode_error=\"ignore\")\n",
    "corpus = vectorizer.fit_transform(x_train)\n",
    "cls = MultinomialNB(alpha=0.0001)\n",
    "cls.fit(vectorizer.transform(x_train), y_train)\n",
    "\n",
    "class_props = \"\"\n",
    "class_instances = [0,0,0,0,0]\n",
    "\n",
    "for i in y_train:\n",
    "    if (i==0):\n",
    "        class_instances[0]+=1;\n",
    "    elif (i==1):\n",
    "        class_instances[1]+=1\n",
    "    elif (i==2):\n",
    "        class_instances[2]+=1\n",
    "    elif (i==3):\n",
    "        class_instances[3]+=1\n",
    "    elif (i==4):\n",
    "        class_instances[4]+=1\n",
    "        \n",
    "for i in range(len(class_instances)):\n",
    "    class_instances[i] = '{0:.5g}'.format(100*class_instances[i]/len(y_train))\n",
    "    class_props += \"Prior probability of \" + labels_str[i] + \": \" + class_instances[i] + \"%\\n\"\n",
    "\n",
    "counts = pd.DataFrame(corpus.toarray(), index=y_train, columns=vectorizer.get_feature_names())\n",
    "\n",
    "class_classification = []\n",
    "class_word_ctr = [0,0,0,0,0]\n",
    "for i in range(5):\n",
    "    class_classification.append(counts.loc[counts.index==i].sum(axis=0))\n",
    "    for j in class_classification[i]:\n",
    "        class_word_ctr[i] += class_classification[i][j]\n",
    "        \n",
    "class_word_tokens = \"\"\n",
    "\n",
    "for i in range(5):\n",
    "    class_word_tokens += \"The number of word-tokens in \" + labels_str[i] + \": \" + str(class_word_ctr[i]) + \"\\n\" \n",
    "class_word_tokens += \"\\nThe number of word-tokens in the entire corpus is: \" + str(np.sum(class_word_ctr)) + \"\\n\"\n",
    "\n",
    "zero_freq_words_ctr = [0,0,0,0,0]\n",
    "one_freq_words_ctr = 0\n",
    "\n",
    "for i in range(5):\n",
    "    for j in class_classification[i]:\n",
    "        if class_classification[i][j]==0:\n",
    "            zero_freq_words_ctr[i] += 1\n",
    "        if class_classification[i][j]==1:\n",
    "            one_freq_words_ctr += 1\n",
    "            \n",
    "zero_freq_words_per = ['{0:.3f}'.format(100*zero_freq_words_ctr[i]/class_word_ctr[i]) for i in range(5)]\n",
    "one_freq_words_per = '{0:.3f}'.format(100*one_freq_words_ctr/np.sum(class_word_ctr))\n",
    "\n",
    "words_number_and_per_str = \"\"\n",
    "\n",
    "for i in range(5):\n",
    "    words_number_and_per_str += \"The number and percentage of words with a frequency of zero in \" + labels_str[i] + \": Number-> \" + str(zero_freq_words_ctr[i]) + \"\\tPercentage-> \" + str(zero_freq_words_per[i]) + \"%\\n\"\n",
    "    \n",
    "words_number_and_per_str += \"\\nThe number and percentage of words with a frequency of zero one in the entire corpus is: Number-> \" + str(one_freq_words_ctr) + \"\\tPercentage-> \" + str(one_freq_words_per) + \"%\\n\"\n",
    "\n",
    "word_list = vectorizer.get_feature_names();    \n",
    "count_list = corpus.toarray().sum(axis=0)\n",
    "corpus_dict = dict(zip(word_list,count_list))\n",
    "\n",
    "prog_prop = '{0:.3f}'.format(math.log(corpus_dict['programming']/np.sum(class_word_ctr)))\n",
    "\n",
    "food_prop = '{0:.3f}'.format(math.log(corpus_dict['food']/np.sum(class_word_ctr)))\n",
    "\n",
    "fav_words_str = \"The log-prop of Programming is: \" + prog_prop + \"\\nThe log-prop of Food is: \" + food_prop\n",
    "\n",
    "y_pred = cls.predict(vectorizer.transform(x_test))\n",
    "with open(\"bbc-performance.txt\", \"a\") as myfile:\n",
    "    myfile.write(\"\\n\\n********************************************************\\nMultinomialNB default values, try 3\\n\\n\")\n",
    "    myfile.write(\"\\nb)\\nConfusion Matrix:\\n\\n\" + str(confusion_matrix(y_test, y_pred)))\n",
    "    myfile.write(\"\\n\\nc & d)\\nAccuracy:\\t\" + str(accuracy_score(y_test, y_pred)))\n",
    "    myfile.write(\"\\n\\n\" + str(classification_report(y_test, y_pred, target_names=data.target_names)))\n",
    "    myfile.write(\"\\n\\ne)\\n\" + class_props)\n",
    "    myfile.write(\"\\n\\nf)\\nThe size of the vocabulary: \" + str(len(corpus_dict)))\n",
    "    myfile.write(\"\\n\\ng & h)\\n\" + class_word_tokens)\n",
    "    myfile.write(\"\\n\\ni & j)\\n\" + words_number_and_per_str)\n",
    "    myfile.write(\"\\n\\nk)\\n\" + fav_words_str)"
   ]
  },
  {
   "cell_type": "markdown",
   "id": "1df1b859",
   "metadata": {},
   "source": [
    "# MultinomialNB default values, try 4"
   ]
  },
  {
   "cell_type": "code",
   "execution_count": 16,
   "id": "389b7464",
   "metadata": {},
   "outputs": [],
   "source": [
    "vectorizer = CountVectorizer(analyzer='word', stop_words=\"english\", decode_error=\"ignore\")\n",
    "corpus = vectorizer.fit_transform(x_train)\n",
    "cls = MultinomialNB(alpha=0.9)\n",
    "cls.fit(vectorizer.transform(x_train), y_train)\n",
    "\n",
    "class_props = \"\"\n",
    "class_instances = [0,0,0,0,0]\n",
    "\n",
    "for i in y_train:\n",
    "    if (i==0):\n",
    "        class_instances[0]+=1;\n",
    "    elif (i==1):\n",
    "        class_instances[1]+=1\n",
    "    elif (i==2):\n",
    "        class_instances[2]+=1\n",
    "    elif (i==3):\n",
    "        class_instances[3]+=1\n",
    "    elif (i==4):\n",
    "        class_instances[4]+=1\n",
    "        \n",
    "for i in range(len(class_instances)):\n",
    "    class_instances[i] = '{0:.5g}'.format(100*class_instances[i]/len(y_train))\n",
    "    class_props += \"Prior probability of \" + labels_str[i] + \": \" + class_instances[i] + \"%\\n\"\n",
    "\n",
    "counts = pd.DataFrame(corpus.toarray(), index=y_train, columns=vectorizer.get_feature_names())\n",
    "\n",
    "class_classification = []\n",
    "class_word_ctr = [0,0,0,0,0]\n",
    "for i in range(5):\n",
    "    class_classification.append(counts.loc[counts.index==i].sum(axis=0))\n",
    "    for j in class_classification[i]:\n",
    "        class_word_ctr[i] += class_classification[i][j]\n",
    "\n",
    "class_word_tokens = \"\"\n",
    "\n",
    "for i in range(5):\n",
    "    class_word_tokens += \"The number of word-tokens in \" + labels_str[i] + \": \" + str(class_word_ctr[i]) + \"\\n\" \n",
    "class_word_tokens += \"\\nThe number of word-tokens in the entire corpus is: \" + str(np.sum(class_word_ctr)) + \"\\n\"\n",
    "\n",
    "zero_freq_words_ctr = [0,0,0,0,0]\n",
    "one_freq_words_ctr = 0\n",
    "\n",
    "\n",
    "for i in range(5):\n",
    "    for j in class_classification[i]:\n",
    "        if class_classification[i][j]==0:\n",
    "            zero_freq_words_ctr[i] += 1\n",
    "        if class_classification[i][j]==1:\n",
    "            one_freq_words_ctr += 1\n",
    "            \n",
    "zero_freq_words_per = ['{0:.3f}'.format(100*zero_freq_words_ctr[i]/class_word_ctr[i]) for i in range(5)]\n",
    "one_freq_words_per = '{0:.3f}'.format(100*one_freq_words_ctr/np.sum(class_word_ctr))\n",
    "\n",
    "words_number_and_per_str = \"\"\n",
    "\n",
    "for i in range(5):\n",
    "    words_number_and_per_str += \"The number and percentage of words with a frequency of zero in \" + labels_str[i] + \": Number-> \" + str(zero_freq_words_ctr[i]) + \"\\tPercentage-> \" + str(zero_freq_words_per[i]) + \"%\\n\"\n",
    "    \n",
    "words_number_and_per_str += \"\\nThe number and percentage of words with a frequency of zero one in the entire corpus is: Number-> \" + str(one_freq_words_ctr) + \"\\tPercentage-> \" + str(one_freq_words_per) + \"%\\n\"\n",
    "\n",
    "word_list = vectorizer.get_feature_names();    \n",
    "count_list = corpus.toarray().sum(axis=0)\n",
    "corpus_dict = dict(zip(word_list,count_list))\n",
    "\n",
    "prog_prop = '{0:.3f}'.format(math.log(corpus_dict['programming']/np.sum(class_word_ctr)))\n",
    "\n",
    "food_prop = '{0:.3f}'.format(math.log(corpus_dict['food']/np.sum(class_word_ctr)))\n",
    "\n",
    "fav_words_str = \"The log-prop of Programming is: \" + prog_prop + \"\\nThe log-prop of Food is: \" + food_prop\n",
    "\n",
    "y_pred = cls.predict(vectorizer.transform(x_test))\n",
    "with open(\"bbc-performance.txt\", \"a\") as myfile:\n",
    "    myfile.write(\"\\n\\n********************************************************\\nMultinomialNB default values, try 4\\n\\n\")\n",
    "    myfile.write(\"\\nb)\\nConfusion Matrix:\\n\\n\" + str(confusion_matrix(y_test, y_pred)))\n",
    "    myfile.write(\"\\n\\nc & d)\\nAccuracy:\\t\" + str(accuracy_score(y_test, y_pred)))\n",
    "    myfile.write(\"\\n\\n\" + str(classification_report(y_test, y_pred, target_names=data.target_names)))\n",
    "    myfile.write(\"\\n\\ne)\\n\" + class_props)\n",
    "    myfile.write(\"\\n\\nf)\\nThe size of the vocabulary: \" + str(len(corpus_dict)))\n",
    "    myfile.write(\"\\n\\ng & h)\\n\" + class_word_tokens)\n",
    "    myfile.write(\"\\n\\ni & j)\\n\" + words_number_and_per_str)\n",
    "    myfile.write(\"\\n\\nk)\\n\" + fav_words_str)"
   ]
  },
  {
   "cell_type": "code",
   "execution_count": null,
   "id": "a772a4f7",
   "metadata": {},
   "outputs": [],
   "source": []
  }
 ],
 "metadata": {
  "kernelspec": {
   "display_name": "Python 3",
   "language": "python",
   "name": "python3"
  },
  "language_info": {
   "codemirror_mode": {
    "name": "ipython",
    "version": 3
   },
   "file_extension": ".py",
   "mimetype": "text/x-python",
   "name": "python",
   "nbconvert_exporter": "python",
   "pygments_lexer": "ipython3",
   "version": "3.8.8"
  }
 },
 "nbformat": 4,
 "nbformat_minor": 5
}
