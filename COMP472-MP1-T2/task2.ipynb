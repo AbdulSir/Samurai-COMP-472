{
 "cells": [
  {
   "cell_type": "markdown",
   "metadata": {
    "collapsed": true,
    "pycharm": {
     "name": "#%% md\n"
    }
   },
   "source": [
    "COMP 472 - Mini Project 1 - Fall 2021\n",
    "Due October 18th, 2021\n",
    "Team Samurai: Adrien Kamran (40095393), Abdul Sirawan (?)"
   ]
  },
  {
   "cell_type": "markdown",
   "source": [
    "**TASK 2**"
   ],
   "metadata": {
    "collapsed": false,
    "pycharm": {
     "name": "#%% md\n"
    }
   }
  },
  {
   "cell_type": "markdown",
   "source": [
    "**STEP 2 - Load the dataset in Python.**"
   ],
   "metadata": {
    "collapsed": false,
    "pycharm": {
     "name": "#%% md\n"
    }
   }
  },
  {
   "cell_type": "code",
   "execution_count": 1,
   "outputs": [
    {
     "name": "stdout",
     "output_type": "stream",
     "text": [
      "   Age Sex      BP Cholesterol  Na_to_K   Drug\n",
      "0   23   F    HIGH        HIGH   25.355  drugY\n",
      "1   47   M     LOW        HIGH   13.093  drugC\n",
      "2   47   M     LOW        HIGH   10.114  drugC\n",
      "3   28   F  NORMAL        HIGH    7.798  drugX\n",
      "4   61   F     LOW        HIGH   18.043  drugY\n"
     ]
    }
   ],
   "source": [
    "import pandas\n",
    "dataset = pandas.read_csv(\"drug200.csv\")\n",
    "# Print the first 5 rows (header incl.) to see if this works as intended\n",
    "print(dataset.head(5))"
   ],
   "metadata": {
    "collapsed": false,
    "pycharm": {
     "name": "#%%\n"
    }
   }
  },
  {
   "cell_type": "markdown",
   "source": [
    "**STEP 3 - Plot the distribution of the instances in each class, then store the graphic in a file called \"drug-distribution.pdf\".**"
   ],
   "metadata": {
    "collapsed": false,
    "pycharm": {
     "name": "#%% md\n"
    }
   }
  },
  {
   "cell_type": "code",
   "execution_count": 2,
   "outputs": [
    {
     "data": {
      "text/plain": "<Figure size 432x288 with 0 Axes>"
     },
     "metadata": {},
     "output_type": "display_data"
    }
   ],
   "source": [
    "import matplotlib.pyplot as plt\n",
    "# For each column in the dataset...\n",
    "for column in dataset:\n",
    "    # Create a histogram of the data in the column's rows\n",
    "    plt.hist(dataset[column])\n",
    "    plt.title = column\n",
    "    # Save the figure as 'column_name.png'\n",
    "    plt.savefig(fname=column)\n",
    "    # Clear the plot's figure window to make room for the next one\n",
    "    plt.clf()\n",
    "\n",
    "# Assemble the PDF in an image editor to make the collage, save as PDF"
   ],
   "metadata": {
    "collapsed": false,
    "pycharm": {
     "name": "#%%\n"
    }
   }
  },
  {
   "cell_type": "markdown",
   "source": [
    "Preliminary observations:\n",
    "- Age: largest group between 40 and 50 yrs, smallest between 50 and 55 yrs.\n",
    "- Sex: nearly even split.\n",
    "- BP: more high than low, more low than normal.\n",
    "- Cholesterol: more high than normal.\n",
    "- Na to K: largest group between 10 and 15, smallest between 38 and 38.\n",
    "- Drug: more drug Y than anything else, less drug C than anything else."
   ],
   "metadata": {
    "collapsed": false,
    "pycharm": {
     "name": "#%% md\n"
    }
   }
  },
  {
   "cell_type": "markdown",
   "source": [
    "**STEP 4 - For the dataset, convert ordinal features to ordered numerical, and nominal features to unordered numerical.**"
   ],
   "metadata": {
    "collapsed": false,
    "pycharm": {
     "name": "#%% md\n"
    }
   }
  },
  {
   "cell_type": "code",
   "execution_count": 3,
   "outputs": [
    {
     "name": "stdout",
     "output_type": "stream",
     "text": [
      "   Age      BP Cholesterol  Na_to_K  Sex_F  Sex_M  Drug_drugA  Drug_drugB  \\\n",
      "0   23    HIGH        HIGH   25.355      1      0           0           0   \n",
      "1   47     LOW        HIGH   13.093      0      1           0           0   \n",
      "2   47     LOW        HIGH   10.114      0      1           0           0   \n",
      "3   28  NORMAL        HIGH    7.798      1      0           0           0   \n",
      "4   61     LOW        HIGH   18.043      1      0           0           0   \n",
      "\n",
      "   Drug_drugC  Drug_drugX  Drug_drugY  \n",
      "0           0           0           1  \n",
      "1           1           0           0  \n",
      "2           1           0           0  \n",
      "3           0           1           0  \n",
      "4           0           0           1  \n",
      "0        HIGH\n",
      "1         LOW\n",
      "2         LOW\n",
      "3      NORMAL\n",
      "4         LOW\n",
      "        ...  \n",
      "195       LOW\n",
      "196       LOW\n",
      "197    NORMAL\n",
      "198    NORMAL\n",
      "199       LOW\n",
      "Name: BP, Length: 200, dtype: category\n",
      "Categories (3, object): ['LOW' < 'NORMAL' < 'HIGH']\n"
     ]
    }
   ],
   "source": [
    "# Convert unordered nominal features\n",
    "dataset = pandas.get_dummies(dataset, columns=['Sex', 'Drug'], prefix=['Sex', 'Drug'])\n",
    "\n",
    "from pandas.api.types import CategoricalDtype\n",
    "# Create ordered categories for ordinal features\n",
    "bp_cat = CategoricalDtype(categories = ['LOW', 'NORMAL', 'HIGH'], ordered = True)\n",
    "chol_cat = CategoricalDtype(categories = ['NORMAL', 'HIGH'], ordered = True)\n",
    "# Assign ordered categories to respective features\n",
    "dataset['BP'] = dataset['BP'].astype(bp_cat)\n",
    "dataset['Cholesterol'] = dataset['Cholesterol'].astype(chol_cat)\n",
    "\n",
    "print(dataset.head(5))\n",
    "print(dataset['BP'])"
   ],
   "metadata": {
    "collapsed": false,
    "pycharm": {
     "name": "#%%\n"
    }
   }
  },
  {
   "cell_type": "markdown",
   "source": [
    "**STEP 5 - Split the dataset**"
   ],
   "metadata": {
    "collapsed": false,
    "pycharm": {
     "name": "#%% md\n"
    }
   }
  },
  {
   "cell_type": "code",
   "execution_count": 5,
   "outputs": [],
   "source": [
    "import sklearn.model_selection as skl\n",
    "# Assign training and testing data to respective arrays\n",
    "train, test = skl.train_test_split(dataset)\n",
    "# Save training and testing data to files\n",
    "train.to_csv(path_or_buf = 'train.csv')\n",
    "test.to_csv(path_or_buf = 'test.csv')"
   ],
   "metadata": {
    "collapsed": false,
    "pycharm": {
     "name": "#%%\n"
    }
   }
  }
 ],
 "metadata": {
  "kernelspec": {
   "display_name": "Python 3",
   "language": "python",
   "name": "python3"
  },
  "language_info": {
   "codemirror_mode": {
    "name": "ipython",
    "version": 2
   },
   "file_extension": ".py",
   "mimetype": "text/x-python",
   "name": "python",
   "nbconvert_exporter": "python",
   "pygments_lexer": "ipython2",
   "version": "2.7.6"
  }
 },
 "nbformat": 4,
 "nbformat_minor": 0
}