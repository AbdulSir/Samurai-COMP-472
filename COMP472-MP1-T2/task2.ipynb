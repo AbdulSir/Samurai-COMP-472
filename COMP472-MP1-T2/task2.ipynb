{
 "cells": [
  {
   "cell_type": "markdown",
   "metadata": {
    "collapsed": true,
    "pycharm": {
     "name": "#%% md\n"
    }
   },
   "source": [
    "COMP 472 - Mini Project 1 - Fall 2021\n",
    "Due October 18th, 2021\n",
    "Team Samurai: Adrien Kamran (40095393), Abdul Sirawan (?)"
   ]
  },
  {
   "cell_type": "markdown",
   "source": [
    "**TASK 2**"
   ],
   "metadata": {
    "collapsed": false,
    "pycharm": {
     "name": "#%% md\n"
    }
   }
  },
  {
   "cell_type": "markdown",
   "source": [
    "**STEP 2 - Load the dataset in Python.**"
   ],
   "metadata": {
    "collapsed": false,
    "pycharm": {
     "name": "#%% md\n"
    }
   }
  },
  {
   "cell_type": "code",
   "execution_count": 1,
   "outputs": [
    {
     "name": "stdout",
     "output_type": "stream",
     "text": [
      "   Age Sex      BP Cholesterol  Na_to_K   Drug\n",
      "0   23   F    HIGH        HIGH   25.355  drugY\n",
      "1   47   M     LOW        HIGH   13.093  drugC\n",
      "2   47   M     LOW        HIGH   10.114  drugC\n",
      "3   28   F  NORMAL        HIGH    7.798  drugX\n",
      "4   61   F     LOW        HIGH   18.043  drugY\n"
     ]
    }
   ],
   "source": [
    "import pandas\n",
    "dataset = pandas.read_csv(\"drug200.csv\")\n",
    "# Print the first 5 rows (header incl.) to see if this works as intended\n",
    "print(dataset.head(5))"
   ],
   "metadata": {
    "collapsed": false,
    "pycharm": {
     "name": "#%%\n"
    }
   }
  },
  {
   "cell_type": "markdown",
   "source": [
    "**STEP 3 - Plot the distribution of the instances in each class, then store the graphic in a file called \"drug-distribution.pdf\".**"
   ],
   "metadata": {
    "collapsed": false,
    "pycharm": {
     "name": "#%% md\n"
    }
   }
  },
  {
   "cell_type": "code",
   "execution_count": 2,
   "outputs": [
    {
     "data": {
      "text/plain": "<Figure size 432x288 with 0 Axes>"
     },
     "metadata": {},
     "output_type": "display_data"
    }
   ],
   "source": [
    "import matplotlib.pyplot as plt\n",
    "# For each column in the dataset...\n",
    "for column in dataset:\n",
    "    # Create a histogram of the data in the column's rows\n",
    "    plt.hist(dataset[column])\n",
    "    plt.title = column\n",
    "    # Save the figure as 'column_name.png'\n",
    "    plt.savefig(fname=column)\n",
    "    # Clear the plot's figure window to make room for the next one\n",
    "    plt.clf()\n",
    "\n",
    "# Assemble the PDF in an image editor to make the collage, save as PDF"
   ],
   "metadata": {
    "collapsed": false,
    "pycharm": {
     "name": "#%%\n"
    }
   }
  },
  {
   "cell_type": "markdown",
   "source": [
    "Preliminary observations:\n",
    "- Age: largest group between 40 and 50 yrs, smallest between 50 and 55 yrs.\n",
    "- Sex: nearly even split.\n",
    "- BP: more high than low, more low than normal.\n",
    "- Cholesterol: more high than normal.\n",
    "- Na to K: largest group between 10 and 15, smallest between 38 and 38.\n",
    "- Drug: more drug Y than anything else, less drug C than anything else."
   ],
   "metadata": {
    "collapsed": false,
    "pycharm": {
     "name": "#%% md\n"
    }
   }
  },
  {
   "cell_type": "markdown",
   "source": [
    "**STEP 4 - For the dataset, convert ordinal features to ordered numerical, and nominal features to unordered numerical.**"
   ],
   "metadata": {
    "collapsed": false,
    "pycharm": {
     "name": "#%% md\n"
    }
   }
  },
  {
   "cell_type": "code",
   "execution_count": 3,
   "outputs": [
    {
     "name": "stdout",
     "output_type": "stream",
     "text": [
      "   Age  BP  Cholesterol  Na_to_K  Sex_M  Sex_F  Drug\n",
      "0   23   2            1   25.355      5      1     0\n",
      "1   47   0            1   13.093      3      0     1\n",
      "2   47   0            1   10.114      3      0     1\n",
      "3   28   1            1    7.798      4      1     0\n",
      "4   61   0            1   18.043      5      1     0\n"
     ]
    }
   ],
   "source": [
    "from pandas.api.types import CategoricalDtype\n",
    "# Convert unordered nominal features\n",
    "dataset = pandas.get_dummies(dataset, columns=['Sex'], prefix=['Sex'])\n",
    "# Create ordered categories for ordinal features\n",
    "# bp_cat = CategoricalDtype(categories = ['LOW', 'NORMAL', 'HIGH'], ordered = True)\n",
    "# chol_cat = CategoricalDtype(categories = ['NORMAL', 'HIGH'], ordered = True)\n",
    "# Assign ordered categories to respective features\n",
    "# dataset['BP'] = dataset['BP'].astype(bp_cat)\n",
    "# dataset['Cholesterol'] = dataset['Cholesterol'].astype(chol_cat)\n",
    "# Find columns with category data type\n",
    "# cat_columns = dataset.select_dtypes(['category']).columns\n",
    "# Convert the data in the category columns to their numeric codes\n",
    "# dataset[cat_columns] = dataset[cat_columns].apply(lambda x: x.cat.codes)\n",
    "dataset['BP'] = dataset['BP'].apply(lambda x: ['LOW', 'NORMAL', 'HIGH'].index(x))\n",
    "dataset['Cholesterol'] = dataset['Cholesterol'].apply(lambda x: ['NORMAL', 'HIGH'].index(x))\n",
    "# drug_cat = CategoricalDtype(categories = ['drugA', 'drugB', 'drugC', 'drugX', 'drugY'], ordered = False)\n",
    "# dataset['Drug'] = dataset['Drug'].astype(drug_cat)\n",
    "dataset['Drug'].replace(to_replace=['drugA', 'drugB', 'drugC', 'drugX', 'drugY'], value=[1, 2, 3, 4, 5], inplace=True)\n",
    "col_list = list(dataset)\n",
    "col_list[4], col_list[6] = col_list[6], col_list[4]\n",
    "dataset.columns = col_list\n",
    "\n",
    "# Create unordered categories for nominal features\n",
    "# sex_cat = CategoricalDtype(categories = ['M', 'F'], ordered = False)\n",
    "# Assign unordered categories to respective features\n",
    "# dataset['Sex'] = dataset['Sex'].astype(sex_cat)\n",
    "\n",
    "\n",
    "\n",
    "print(dataset.head(5))"
   ],
   "metadata": {
    "collapsed": false,
    "pycharm": {
     "name": "#%%\n"
    }
   }
  },
  {
   "cell_type": "markdown",
   "source": [
    "**STEP 5 - Split the dataset**"
   ],
   "metadata": {
    "collapsed": false,
    "pycharm": {
     "name": "#%% md\n"
    }
   }
  },
  {
   "cell_type": "code",
   "execution_count": 4,
   "outputs": [
    {
     "name": "stdout",
     "output_type": "stream",
     "text": [
      "   Age  BP  Cholesterol  Na_to_K  Sex_M  Sex_F\n",
      "0   23   2            1   25.355      5      1\n",
      "1   47   0            1   13.093      3      0\n",
      "2   47   0            1   10.114      3      0\n",
      "3   28   1            1    7.798      4      1\n",
      "4   61   0            1   18.043      5      1\n",
      "   Drug\n",
      "0     0\n",
      "1     1\n",
      "2     1\n",
      "3     0\n",
      "4     0\n"
     ]
    }
   ],
   "source": [
    "import sklearn.model_selection as skl\n",
    "# First, split dataset into features and targets\n",
    "features = dataset.iloc[:, 0:6] # The first five columns are features\n",
    "target = dataset.iloc[:, 6:] # The last 5 columns are the target\n",
    "print(features.head(5))\n",
    "print(target.head(5))\n",
    "# Assign training and testing data to respective arrays\n",
    "features_train, features_test, target_train, target_test = skl.train_test_split(features, target)\n",
    "# Save training and testing data to files\n",
    "features_train.to_csv(path_or_buf = 'features_train.csv')\n",
    "features_test.to_csv(path_or_buf = 'features_test.csv')\n",
    "target_train.to_csv(path_or_buf = 'target_train.csv')\n",
    "target_test.to_csv(path_or_buf = 'target_test.csv')"
   ],
   "metadata": {
    "collapsed": false,
    "pycharm": {
     "name": "#%%\n"
    }
   }
  },
  {
   "cell_type": "markdown",
   "source": [
    "**STEP 6 - Run classifiers**"
   ],
   "metadata": {
    "collapsed": false,
    "pycharm": {
     "name": "#%% md\n"
    }
   }
  },
  {
   "cell_type": "markdown",
   "source": [
    "**STEP 6.a - Naive Bayes**"
   ],
   "metadata": {
    "collapsed": false,
    "pycharm": {
     "name": "#%% md\n"
    }
   }
  },
  {
   "cell_type": "code",
   "execution_count": 5,
   "outputs": [
    {
     "name": "stdout",
     "output_type": "stream",
     "text": [
      "Accuracy 1.0\n"
     ]
    },
    {
     "name": "stderr",
     "output_type": "stream",
     "text": [
      "C:\\ProgramData\\Anaconda3\\lib\\site-packages\\sklearn\\utils\\validation.py:63: DataConversionWarning: A column-vector y was passed when a 1d array was expected. Please change the shape of y to (n_samples, ), for example using ravel().\n",
      "  return f(*args, **kwargs)\n"
     ]
    }
   ],
   "source": [
    "from sklearn.naive_bayes import GaussianNB\n",
    "from sklearn import metrics\n",
    "# Create the Gaussian Classifier\n",
    "gnb = GaussianNB()\n",
    "# Train the model\n",
    "gnb.fit(features_train, target_train)\n",
    "target_prediction = gnb.predict(features_test)\n",
    "print(\"Accuracy\", metrics.accuracy_score(target_test, target_prediction))"
   ],
   "metadata": {
    "collapsed": false,
    "pycharm": {
     "name": "#%%\n"
    }
   }
  }
 ],
 "metadata": {
  "kernelspec": {
   "display_name": "Python 3",
   "language": "python",
   "name": "python3"
  },
  "language_info": {
   "codemirror_mode": {
    "name": "ipython",
    "version": 2
   },
   "file_extension": ".py",
   "mimetype": "text/x-python",
   "name": "python",
   "nbconvert_exporter": "python",
   "pygments_lexer": "ipython2",
   "version": "2.7.6"
  }
 },
 "nbformat": 4,
 "nbformat_minor": 0
}